{
 "cells": [
  {
   "cell_type": "code",
   "execution_count": 51,
   "id": "e0002514-1ef1-46f4-a2df-df223ecb084d",
   "metadata": {},
   "outputs": [],
   "source": [
    "import os\n",
    "import pandas as pd\n",
    "import numpy as np\n",
    "import matplotlib.pyplot as plt"
   ]
  },
  {
   "cell_type": "code",
   "execution_count": 52,
   "id": "63bf585e-4efc-4398-8ecb-400dbcf38971",
   "metadata": {},
   "outputs": [],
   "source": [
    "IN_PATH_indeed = os.path.join('../data', 'job_list.csv')\n",
    "indeed = pd.read_csv(IN_PATH_indeed)"
   ]
  },
  {
   "cell_type": "code",
   "execution_count": 53,
   "id": "61860e01-e3ee-40db-9786-be847ebafda2",
   "metadata": {},
   "outputs": [],
   "source": [
    "state_counts = indeed.groupby(['location','title'])['job_id'].size().unstack(fill_value=0)"
   ]
  },
  {
   "cell_type": "code",
   "execution_count": 54,
   "id": "b44cd2ef-d8c5-40b9-90a7-70a3c8022a1c",
   "metadata": {},
   "outputs": [
    {
     "data": {
      "image/png": "[encoded data removed]",
      "text/plain": [
       "<Figure size 432x288 with 1 Axes>"
      ]
     },
     "metadata": {
      "needs_background": "light"
     },
     "output_type": "display_data"
    }
   ],
   "source": [
    "state_counts.plot.bar(rot=0)\n",
    "plt.title('The Number of Jobs of each Category in Three States')\n",
    "plt.ylabel('Number of Jobs')\n",
    "plt.xlabel('Location')\n",
    "plt.savefig('../figure/figure2.png', bbox_inches = 'tight', dpi=100)"
   ]
  },
  {
   "cell_type": "code",
   "execution_count": 55,
   "id": "629b83d3-d63e-4f3f-a2f9-735fe8632d86",
   "metadata": {},
   "outputs": [
    {
     "data": {
      "text/html": [
       "<div>\n",
       "<style scoped>\n",
       "    .dataframe tbody tr th:only-of-type {\n",
       "        vertical-align: middle;\n",
       "    }\n",
       "\n",
       "    .dataframe tbody tr th {\n",
       "        vertical-align: top;\n",
       "    }\n",
       "\n",
       "    .dataframe thead th {\n",
       "        text-align: right;\n",
       "    }\n",
       "</style>\n",
       "<table border=\"1\" class=\"dataframe\">\n",
       "  <thead>\n",
       "    <tr style=\"text-align: right;\">\n",
       "      <th></th>\n",
       "      <th>job_id</th>\n",
       "    </tr>\n",
       "    <tr>\n",
       "      <th>company_name</th>\n",
       "      <th></th>\n",
       "    </tr>\n",
       "  </thead>\n",
       "  <tbody>\n",
       "    <tr>\n",
       "      <th>JPMorgan Chase Bank, N.A.</th>\n",
       "      <td>76</td>\n",
       "    </tr>\n",
       "    <tr>\n",
       "      <th>Visa</th>\n",
       "      <td>56</td>\n",
       "    </tr>\n",
       "    <tr>\n",
       "      <th>Deloitte</th>\n",
       "      <td>54</td>\n",
       "    </tr>\n",
       "    <tr>\n",
       "      <th>Amazon.com Services LLC</th>\n",
       "      <td>52</td>\n",
       "    </tr>\n",
       "    <tr>\n",
       "      <th>Citi</th>\n",
       "      <td>40</td>\n",
       "    </tr>\n",
       "    <tr>\n",
       "      <th>Google</th>\n",
       "      <td>33</td>\n",
       "    </tr>\n",
       "    <tr>\n",
       "      <th>KPMG</th>\n",
       "      <td>32</td>\n",
       "    </tr>\n",
       "    <tr>\n",
       "      <th>IBM</th>\n",
       "      <td>26</td>\n",
       "    </tr>\n",
       "    <tr>\n",
       "      <th>PRICE WATERHOUSE COOPERS</th>\n",
       "      <td>23</td>\n",
       "    </tr>\n",
       "    <tr>\n",
       "      <th>WELLS FARGO BANK</th>\n",
       "      <td>22</td>\n",
       "    </tr>\n",
       "    <tr>\n",
       "      <th>Verizon</th>\n",
       "      <td>22</td>\n",
       "    </tr>\n",
       "    <tr>\n",
       "      <th>General Motors</th>\n",
       "      <td>21</td>\n",
       "    </tr>\n",
       "    <tr>\n",
       "      <th>Accenture</th>\n",
       "      <td>21</td>\n",
       "    </tr>\n",
       "    <tr>\n",
       "      <th>Apple</th>\n",
       "      <td>21</td>\n",
       "    </tr>\n",
       "    <tr>\n",
       "      <th>Change Healthcare</th>\n",
       "      <td>21</td>\n",
       "    </tr>\n",
       "    <tr>\n",
       "      <th>Facebook App</th>\n",
       "      <td>21</td>\n",
       "    </tr>\n",
       "    <tr>\n",
       "      <th>EY</th>\n",
       "      <td>19</td>\n",
       "    </tr>\n",
       "    <tr>\n",
       "      <th>Capgemini</th>\n",
       "      <td>19</td>\n",
       "    </tr>\n",
       "    <tr>\n",
       "      <th>SiriusXM</th>\n",
       "      <td>18</td>\n",
       "    </tr>\n",
       "    <tr>\n",
       "      <th>Walmart</th>\n",
       "      <td>18</td>\n",
       "    </tr>\n",
       "  </tbody>\n",
       "</table>\n",
       "</div>"
      ],
      "text/plain": [
       "                           job_id\n",
       "company_name                     \n",
       "JPMorgan Chase Bank, N.A.      76\n",
       "Visa                           56\n",
       "Deloitte                       54\n",
       "Amazon.com Services LLC        52\n",
       "Citi                           40\n",
       "Google                         33\n",
       "KPMG                           32\n",
       "IBM                            26\n",
       "PRICE WATERHOUSE COOPERS       23\n",
       "WELLS FARGO BANK               22\n",
       "Verizon                        22\n",
       "General Motors                 21\n",
       "Accenture                      21\n",
       "Apple                          21\n",
       "Change Healthcare              21\n",
       "Facebook App                   21\n",
       "EY                             19\n",
       "Capgemini                      19\n",
       "SiriusXM                       18\n",
       "Walmart                        18"
      ]
     },
     "execution_count": 55,
     "metadata": {},
     "output_type": "execute_result"
    }
   ],
   "source": [
    "company_top20 = indeed.groupby(['company_name'])['job_id'].count().to_frame().sort_values(['job_id'], ascending=[False]).head(20)\n",
    "company_top20"
   ]
  },
  {
   "cell_type": "code",
   "execution_count": 56,
   "id": "428cddd0-8a11-4f21-ac3d-6e63d0feebbf",
   "metadata": {},
   "outputs": [
    {
     "data": {
      "image/png": "[encoded data removed]",
      "text/plain": [
       "<Figure size 432x288 with 1 Axes>"
      ]
     },
     "metadata": {
      "needs_background": "light"
     },
     "output_type": "display_data"
    }
   ],
   "source": [
    "company_top5 = company_top20.head(5)\n",
    "company_top5_2= indeed.groupby(['company_name','title'])['job_id'].size().unstack(fill_value=0)\n",
    "company_top5_count = pd.merge(company_top5, company_top5_2, how = 'left', on = ['company_name'])\n",
    "company_top5_count = company_top5_count[['Data Analyst','Data Engineer','Data Scientist']]\n",
    "company_top5_count.plot(kind='barh')\n",
    "plt.title('Number of Jobs in Each Category Posted by the Top Five Companies')\n",
    "plt.xlabel('Number of Jobs')\n",
    "plt.ylabel('Company Name')\n",
    "ax=plt.gca()\n",
    "ax.invert_yaxis() \n",
    "plt.savefig('../figure/figure3.png', bbox_inches = 'tight', dpi=100)"
   ]
  },
  {
   "cell_type": "code",
   "execution_count": 64,
   "id": "69d962c4-4c42-4b5d-9e68-1e51b292a2d7",
   "metadata": {},
   "outputs": [],
   "source": [
    "IN_PATH_industry = os.path.join('../data', '300_job_industry_skill.csv')\n",
    "industry = pd.read_csv(IN_PATH_industry)"
   ]
  },
  {
   "cell_type": "code",
   "execution_count": 100,
   "id": "4631a62d-2a68-4ad9-ad8e-0d3881a2300b",
   "metadata": {},
   "outputs": [
    {
     "data": {
      "image/png": "[encoded data removed]",
      "text/plain": [
       "<Figure size 432x288 with 1 Axes>"
      ]
     },
     "metadata": {
      "needs_background": "light"
     },
     "output_type": "display_data"
    }
   ],
   "source": [
    "industry_top5 = industry.groupby(['Industry'])['jid'].count().to_frame().sort_values(['jid'], ascending=[ False]).head(5)\n",
    "industry_top5_2= industry.groupby(['Industry','Title'])['jid'].count().unstack(fill_value=0)\n",
    "# df['%'] = 100 * df['Fee'] / df.groupby('Courses')['Fee'].transform('sum')\n",
    "industry_top5_count = pd.merge(industry_top5, industry_top5_2, how = 'left', on = ['Industry'])\n",
    "industry_top5_count = industry_top5_count[['Data Analyst','Data Engineer','Data Scientist']]\n",
    "industry_top5_count['Sum'] = industry_top5_count.apply(lambda x: x['Data Analyst'] + x['Data Engineer'] + x['Data Scientist'], axis=1)\n",
    "industry_top5_count['Data Analyst'] = industry_top5_count.apply(lambda x: x['Data Analyst']/(x['Sum']), axis=1)\n",
    "industry_top5_count['Data Engineer'] = industry_top5_count.apply(lambda x: x['Data Engineer']/(x['Sum']), axis=1)\n",
    "industry_top5_count['Data Scientist'] = industry_top5_count.apply(lambda x: x['Data Scientist']/(x['Sum']), axis=1)\n",
    "industry_top5_count_new = industry_top5_count[['Data Analyst','Data Engineer','Data Scientist']]\n",
    "industry_top5_count_new\n",
    "industry_top5_count_new.plot(kind='barh')\n",
    "plt.title('Number of Jobs in Each Category Posted by the Top Five Industries')\n",
    "plt.xlabel('Number of Jobs')\n",
    "plt.ylabel('Industry')\n",
    "ax=plt.gca()\n",
    "ax.invert_yaxis() \n",
    "plt.savefig('../figure/figure4.png', bbox_inches = 'tight', dpi=100)"
   ]
  },
  {
   "cell_type": "code",
   "execution_count": null,
   "id": "1a77ecf5-460c-4779-843d-15e406f42bc4",
   "metadata": {},
   "outputs": [],
   "source": []
  },
  {
   "cell_type": "code",
   "execution_count": null,
   "id": "0978a395-c61a-4ace-880c-29ff0c8d9dfe",
   "metadata": {},
   "outputs": [],
   "source": []
  }
 ],
 "metadata": {
  "environment": {
   "kernel": "python3",
   "name": "common-cpu.m91",
   "type": "gcloud",
   "uri": "gcr.io/deeplearning-platform-release/base-cpu:m91"
  },
  "kernelspec": {
   "display_name": "Python 3",
   "language": "python",
   "name": "python3"
  },
  "language_info": {
   "codemirror_mode": {
    "name": "ipython",
    "version": 3
   },
   "file_extension": ".py",
   "mimetype": "text/x-python",
   "name": "python",
   "nbconvert_exporter": "python",
   "pygments_lexer": "ipython3",
   "version": "3.7.12"
  }
 },
 "nbformat": 4,
 "nbformat_minor": 5
}
