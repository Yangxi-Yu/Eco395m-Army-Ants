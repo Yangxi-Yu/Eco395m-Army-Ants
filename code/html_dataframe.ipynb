{
 "cells": [
  {
   "cell_type": "code",
   "execution_count": 508,
   "id": "445be192-3876-469a-9e16-456819158dd9",
   "metadata": {},
   "outputs": [],
   "source": [
    "import pandas as pd\n",
    "from bs4 import BeautifulSoup\n",
    "import re"
   ]
  },
  {
   "cell_type": "code",
   "execution_count": 509,
   "id": "48707f64-0208-4ddd-80f4-8e9097bc48cb",
   "metadata": {},
   "outputs": [],
   "source": [
    "def job_rating(card):\n",
    "    try:\n",
    "        job_rating=card.find('span','ratingsDisplay').a.text\n",
    "    except AttributeError:\n",
    "        job_rating=''\n",
    "    return job_rating\n",
    "\n",
    "def job_salary(card):\n",
    "    try:\n",
    "        job_salary=card.find(class_='salary-snippet-container').text\n",
    "        # job_salary=card.find('div','metadata salary-snippet-container').text\n",
    "    except AttributeError:\n",
    "        job_salary=''\n",
    "    return job_salary\n",
    "\n",
    "def get_job_id(soup):\n",
    "    jid_list=[]\n",
    "    find_jid = re.compile(r'(jobKeysWithInfo\\[([a-zA-Z0-9]{16})\\])')\n",
    "    script = soup.find(\"script\", text=lambda text: text and \"var jobKeysWithInfo\" in text).text\n",
    "    for row in script.split('\\n'):\n",
    "            if row.startswith('jobKeysWithInfo'):\n",
    "                jid = find_jid.search(row.replace(\"'\", \"\"))    \n",
    "                if jid:\n",
    "                    jid = find_jid.search(row.replace(\"'\", \"\")).group(2)\n",
    "                    jid_list.append(jid)\n",
    "    return jid_list"
   ]
  },
  {
   "cell_type": "code",
   "execution_count": 506,
   "id": "fd384805-0906-4128-8683-34a9f90f641b",
   "metadata": {},
   "outputs": [],
   "source": [
    "#Set the structual of dataframe\n",
    "def df_basic(raw):\n",
    "    df = pd.read_csv(raw)\n",
    "    df_basic = pd.DataFrame(columns=(\"job_title\",\"company_name\",\"location\",'salary','rating',\"job_id\"))\n",
    "    for i in df['HTML']:\n",
    "        soup=BeautifulSoup(i,'html.parser')\n",
    "        script = soup.find(\"script\", text=lambda text: text and \"var jobKeysWithInfo\" in text).text\n",
    "        \"\"\" get list of id and list of \"company_name\",\"location\",'salary','rating',\"job_id\" \"\"\"\n",
    "        id_list=get_job_id(soup)\n",
    "        cards=soup.find_all('div','job_seen_beacon')\n",
    "        result=[[card.h2.text,card.find(\"div\",'heading6').contents[0].text,card.find('div','companyLocation').text,\n",
    "                job_salary(card),job_rating(card)] for card in cards]\n",
    "        \"\"\"join two list \"\"\"\n",
    "        [result[i].append(id_list[i]) for i in range(len(result))]\n",
    "        for r in range(len(result)):\n",
    "            df_basic=df_basic.append(pd.Series(result[r], index = [\"job_title\",\"company_name\",\"location\",'salary','rating',\"job_id\"]), ignore_index=True)\n",
    "        \"\"\"return into dataframe with order\"\"\"\n",
    "        df_basic=df_basic[[\"job_id\",\"job_title\",\"company_name\",\"location\",'salary','rating']]\n",
    "        '''output result.csv'''\n",
    "        # df_basic.to_csv('result.csv')\n",
    "    return df_basic\n"
   ]
  },
  {
   "cell_type": "code",
   "execution_count": 510,
   "id": "24bd366d-c546-470f-b34b-583d6f57a17d",
   "metadata": {},
   "outputs": [],
   "source": [
    "df_basic(\"Data Analyst_New York State_30.csv\")\n"
   ]
  }
 ],
 "metadata": {
  "environment": {
   "kernel": "python3",
   "name": "common-cpu.m90",
   "type": "gcloud",
   "uri": "gcr.io/deeplearning-platform-release/base-cpu:m90"
  },
  "kernelspec": {
   "display_name": "Python 3",
   "language": "python",
   "name": "python3"
  },
  "language_info": {
   "codemirror_mode": {
    "name": "ipython",
    "version": 3
   },
   "file_extension": ".py",
   "mimetype": "text/x-python",
   "name": "python",
   "nbconvert_exporter": "python",
   "pygments_lexer": "ipython3",
   "version": "3.7.12"
  }
 },
 "nbformat": 4,
 "nbformat_minor": 5
}
