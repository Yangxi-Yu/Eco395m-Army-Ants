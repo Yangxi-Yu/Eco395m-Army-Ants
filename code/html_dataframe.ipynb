{
 "cells": [
  {
   "cell_type": "code",
   "execution_count": 758,
   "id": "445be192-3876-469a-9e16-456819158dd9",
   "metadata": {},
   "outputs": [],
   "source": [
    "import pandas as pd\n",
    "from bs4 import BeautifulSoup\n",
    "import re\n",
    "import numpy as np"
   ]
  },
  {
   "cell_type": "code",
   "execution_count": 759,
   "id": "48707f64-0208-4ddd-80f4-8e9097bc48cb",
   "metadata": {},
   "outputs": [],
   "source": [
    "def job_rating(card):\n",
    "    try:\n",
    "        job_rating=card.find('span','ratingsDisplay').a.text\n",
    "    except AttributeError:\n",
    "        job_rating=''\n",
    "    return job_rating\n",
    "\n",
    "def job_salary(card):\n",
    "    try:\n",
    "        job_salary=card.find(class_='salary-snippet-container').text\n",
    "    except AttributeError:\n",
    "        job_salary=''\n",
    "    if job_salary=='':\n",
    "        try:\n",
    "            job_salary=card.find(class_='metadata estimated-salary-container').text\n",
    "        except AttributeError:\n",
    "            job_salary=''\n",
    "    return job_salary\n",
    "\n",
    "def get_job_id(soup):\n",
    "    jid_list=[]\n",
    "    find_jid = re.compile(r'(jobKeysWithInfo\\[([a-zA-Z0-9]{16})\\])')\n",
    "    script = soup.find(\"script\", text=lambda text: text and \"var jobKeysWithInfo\" in text).text\n",
    "    for row in script.split('\\n'):\n",
    "            if row.startswith('jobKeysWithInfo'):\n",
    "                jid = find_jid.search(row.replace(\"'\", \"\"))    \n",
    "                if jid:\n",
    "                    jid = find_jid.search(row.replace(\"'\", \"\")).group(2)\n",
    "                    jid_list.append(jid)\n",
    "    return jid_list\n",
    "\n",
    "def clean_salary(df):\n",
    "    resultlist=[]\n",
    "    mean_list=[]\n",
    "    for i in df['salary']:\n",
    "        x=i.replace(\".\", \"\")\n",
    "        x=re.sub(\",\", \"\", x)\n",
    "        x=re.sub(\"K\", \"000\", x)\n",
    "        if 'year' in x:\n",
    "            result=re.findall('\\d+',x)\n",
    "            result=[int(i) for i in result]\n",
    "            mean=np.mean(result)\n",
    "        elif 'month' in x:\n",
    "            result=re.findall('\\d+',x)\n",
    "            result=[12*int(i) for i in result]\n",
    "            mean=np.mean(result)\n",
    "        elif 'day' in x:\n",
    "            result=re.findall('\\d+',x)\n",
    "            result=[20*12*int(i) for i in result]\n",
    "            mean=np.mean(result)\n",
    "        elif 'hour' in x:\n",
    "            result=re.findall('\\d+',x)\n",
    "            result=[40*20*12*int(i) for i in result]\n",
    "            mean=np.mean(result)\n",
    "        else:\n",
    "            result=''\n",
    "            result=[int(i) for i in result]\n",
    "            mean=np.mean(result)\n",
    "        resultlist.append(result)  \n",
    "        mean_list.append(mean)\n",
    "    df['salary_scale']=resultlist\n",
    "    df['salary_mean']=mean_list\n",
    "    return df"
   ]
  },
  {
   "cell_type": "code",
   "execution_count": 760,
   "id": "fd384805-0906-4128-8683-34a9f90f641b",
   "metadata": {},
   "outputs": [],
   "source": [
    "#Set the structual of dataframe\n",
    "def df_basic(raw):\n",
    "    df = pd.read_csv(raw)\n",
    "    df_basic = pd.DataFrame(columns=(\"job_title\",\"company_name\",\"location_in_detail\",'salary','rating',\"job_id\",'title','location'))\n",
    "    for index,row in df.iterrows():\n",
    "        soup=BeautifulSoup(row[1],'html.parser')\n",
    "        script = soup.find(\"script\", text=lambda text: text and \"var jobKeysWithInfo\" in text).text\n",
    "        \"\"\" get list of id and list of \"company_name\",\"location\",'salary','rating',\"job_id\" \"\"\"\n",
    "        id_list=get_job_id(soup)\n",
    "        cards=soup.find_all('div','job_seen_beacon')\n",
    "        result=[[card.h2.text,card.find(\"div\",'heading6').contents[0].text,card.find('div','companyLocation').text,\n",
    "                job_salary(card),job_rating(card)] for card in cards]\n",
    "        \"\"\"join two list \"\"\"\n",
    "        [result[i].append(id_list[i]) for i in range(len(result))]\n",
    "        \"\"\"Add salary \"\"\"\n",
    "        [result[i].append(row[2]) for i in range(len(result))]\n",
    "        \"\"\"Add location \"\"\"\n",
    "        [result[i].append(row[3]) for i in range(len(result))]\n",
    "        for r in range(len(result)):\n",
    "            df_basic=df_basic.append(pd.Series(result[r], index = [\"job_title\",\"company_name\",\"location_in_detail\",'salary','rating',\"job_id\",'title','location']), ignore_index=True)\n",
    "        \"\"\"return into dataframe with order\"\"\"\n",
    "        df_basic=df_basic[[\"job_title\",\"company_name\",\"location_in_detail\",'salary','rating',\"job_id\",'title','location']]\n",
    "        '''clean salary '''\n",
    "        df_basic=clean_salary(df_basic)\n",
    "        '''output result.csv'''\n",
    "        df_basic.to_csv('job_list.csv',index=False, encoding='utf-8')\n",
    "    return df_basic\n"
   ]
  },
  {
   "cell_type": "code",
   "execution_count": 761,
   "id": "3057d393-1dc4-4796-b4ac-1c20975e61bd",
   "metadata": {},
   "outputs": [],
   "source": [
    "df_basic=df_basic('merged_searched_job_html.csv')"
   ]
  },
  {
   "cell_type": "code",
   "execution_count": 749,
   "id": "ff26d6e2-5f11-4e79-b86e-ac6099b83151",
   "metadata": {},
   "outputs": [
    {
     "name": "stderr",
     "output_type": "stream",
     "text": [
      "/opt/conda/lib/python3.7/site-packages/numpy/core/fromnumeric.py:3373: RuntimeWarning: Mean of empty slice.\n",
      "  out=out, **kwargs)\n",
      "/opt/conda/lib/python3.7/site-packages/numpy/core/_methods.py:170: RuntimeWarning: invalid value encountered in double_scalars\n",
      "  ret = ret.dtype.type(ret / rcount)\n"
     ]
    },
    {
     "data": {
      "text/plain": [
       "<AxesSubplot:xlabel='title,location'>"
      ]
     },
     "execution_count": 749,
     "metadata": {},
     "output_type": "execute_result"
    },
    {
     "data": {
      "image/png": "[encoded data removed]",
      "text/plain": [
       "<Figure size 432x288 with 1 Axes>"
      ]
     },
     "metadata": {
      "needs_background": "light"
     },
     "output_type": "display_data"
    }
   ],
   "source": [
    "df=clean_salary(df_basic)\n",
    "df.groupby(['title','location'])['salary_mean'].mean().plot.bar()"
   ]
  }
 ],
 "metadata": {
  "environment": {
   "kernel": "python3",
   "name": "common-cpu.m90",
   "type": "gcloud",
   "uri": "gcr.io/deeplearning-platform-release/base-cpu:m90"
  },
  "kernelspec": {
   "display_name": "Python 3",
   "language": "python",
   "name": "python3"
  },
  "language_info": {
   "codemirror_mode": {
    "name": "ipython",
    "version": 3
   },
   "file_extension": ".py",
   "mimetype": "text/x-python",
   "name": "python",
   "nbconvert_exporter": "python",
   "pygments_lexer": "ipython3",
   "version": "3.7.12"
  }
 },
 "nbformat": 4,
 "nbformat_minor": 5
}
